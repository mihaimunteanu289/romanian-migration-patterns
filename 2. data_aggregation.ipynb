{
 "cells": [
  {
   "cell_type": "markdown",
   "id": "3122b78e-1541-4998-adf5-fcfcce9a7c9c",
   "metadata": {},
   "source": [
    "### Import libraries"
   ]
  },
  {
   "cell_type": "code",
   "execution_count": 1,
   "id": "d728160d-933e-4a92-b164-266570485c9b",
   "metadata": {},
   "outputs": [],
   "source": [
    "import pandas as pd"
   ]
  },
  {
   "cell_type": "markdown",
   "id": "793f427e-879c-4348-8874-c7da30e21982",
   "metadata": {},
   "source": [
    "### Read dataframes"
   ]
  },
  {
   "cell_type": "code",
   "execution_count": 2,
   "id": "aeedb821-d5a6-408b-8f12-9a99d8ff6be7",
   "metadata": {},
   "outputs": [],
   "source": [
    "df_emigranti_definitivi_sexe_judete_ani = pd.read_csv(\"data/emigranti_definitivi_sexe_judete_ani.csv\")\n",
    "df_emigranti_definitivi_sexe_judete_ani = df_emigranti_definitivi_sexe_judete_ani.groupby([' Ani', ' Macroregiuni  regiuni de dezvoltare si judete'])[' Valoare'].sum().reset_index()\n",
    "\n",
    "df_nascuti_vii = pd.read_csv(\"data/nascuti_vii_medii_rezidenta.csv\")\n",
    "df_nascuti_vii.drop(labels=['Sexe', ' UM: Numar persoane'], axis=1, inplace=True)\n",
    "df_nascuti_vii_urban = df_nascuti_vii[df_nascuti_vii[' Medii de rezidenta'] == ' Urban'].drop(' Medii de rezidenta', axis=1).reset_index(drop=True)\n",
    "df_nascuti_vii_rural = df_nascuti_vii[df_nascuti_vii[' Medii de rezidenta'] == ' Rural'].drop(' Medii de rezidenta', axis=1).reset_index(drop=True)\n",
    "\n",
    "df_nascuti_morti = pd.read_csv(\"data/nascuti_morti_medii_rezidenta.csv\")\n",
    "df_nascuti_morti.drop(labels=[' UM: Numar persoane'], axis=1, inplace=True)\n",
    "df_nascuti_morti_urban = df_nascuti_morti[df_nascuti_morti['Medii de rezidenta'] == 'Urban'].drop('Medii de rezidenta', axis=1).reset_index(drop=True)\n",
    "df_nascuti_morti_rural = df_nascuti_morti[df_nascuti_morti['Medii de rezidenta'] == 'Rural'].drop('Medii de rezidenta', axis=1).reset_index(drop=True)\n",
    "\n",
    "df_divorturi = pd.read_csv(\"data/divorturi_medii_rezidenta.csv\")\n",
    "df_divorturi.drop(labels=[' UM: Numar'], axis=1, inplace=True)\n",
    "df_divorturi_urban = df_divorturi[df_divorturi['Medii de rezidenta'] == 'Urban'].drop('Medii de rezidenta', axis=1).reset_index(drop=True)\n",
    "df_divorturi_rural = df_divorturi[df_divorturi['Medii de rezidenta'] == 'Rural'].drop('Medii de rezidenta', axis=1).reset_index(drop=True)\n",
    "                      \n",
    "df_rata_somajului = pd.read_csv(\"data/rata_somajului_sexe.csv\")\n",
    "df_rata_somajului.drop(labels=[' UM: Procente'], axis=1, inplace=True)\n",
    "df_rata_somajului_masculin = df_rata_somajului[df_rata_somajului['Sexe'] == 'Masculin'].drop('Sexe', axis=1).reset_index(drop=True)\n",
    "df_rata_somajului_feminin = df_rata_somajului[df_rata_somajului['Sexe'] == 'Feminin'].drop('Sexe', axis=1).reset_index(drop=True)\n",
    "\n",
    "df_conflicte_interese = pd.read_csv(\"data/conflicte_interese.csv\")\n",
    "df_conflicte_interese.drop(labels=[' UM: Numar'], axis=1, inplace=True)\n",
    "df_conflicte_interese.rename(columns={'Macroregiuni  regiuni de dezvoltare si judete':' Macroregiuni  regiuni de dezvoltare si judete'}, inplace=True)\n",
    "df_conflicte_interese[' Macroregiuni  regiuni de dezvoltare si judete'] = ' ' + df_conflicte_interese[' Macroregiuni  regiuni de dezvoltare si judete'].astype(str)\n",
    "\n",
    "df_unitati_invatamant = pd.read_csv(\"data/unitati_invatamant.csv\")\n",
    "df_unitati_invatamant.drop(labels=['Niveluri de educatie', ' Localitati ', ' UM: Numar'], axis=1, inplace=True)\n",
    "df_unitati_invatamant.rename(columns={' Judete':' Macroregiuni  regiuni de dezvoltare si judete'}, inplace=True)\n",
    "\n",
    "df_personal_didactic = pd.read_csv(\"data/personal_didactic.csv\")\n",
    "df_personal_didactic.drop(labels=['Niveluri de educatie', ' Sexe', ' UM: Numar persoane'], axis=1, inplace=True)\n",
    "                      \n",
    "df_spitale = pd.read_csv(\"data/spitale.csv\")\n",
    "df_spitale.drop(labels=['Categorii de unitati sanitare', ' Forme de proprietate ', ' UM: Numar'], axis=1, inplace=True)"
   ]
  },
  {
   "cell_type": "markdown",
   "id": "93086a69-b70a-4eb9-ae79-c20879d4be47",
   "metadata": {},
   "source": [
    "##### Rename numeric columns accordingly"
   ]
  },
  {
   "cell_type": "code",
   "execution_count": 3,
   "id": "40aaa18f-2a3b-41e3-be34-b5086a67a234",
   "metadata": {},
   "outputs": [],
   "source": [
    "df_emigranti_definitivi_sexe_judete_ani.rename(columns={' Valoare':'EMIGRANTS'}, inplace=True)\n",
    "df_nascuti_vii_urban.rename(columns={' Valoare':'BORN_URBAN'}, inplace=True)\n",
    "df_nascuti_vii_rural.rename(columns={' Valoare':'BORN_RURAL'}, inplace=True)\n",
    "df_nascuti_morti_urban.rename(columns={' Valoare':'DEAD_URBAN'}, inplace=True)\n",
    "df_nascuti_morti_rural.rename(columns={' Valoare':'DEAD_RURAL'}, inplace=True)\n",
    "df_divorturi_urban.rename(columns={' Valoare':'DIVORCES_URBAN'}, inplace=True)\n",
    "df_divorturi_rural.rename(columns={' Valoare':'DIVORCES_RURAL'}, inplace=True)\n",
    "df_rata_somajului_masculin.rename(columns={' Valoare':'UNEMPLOYMENT_RATE_MALE'}, inplace=True)\n",
    "df_rata_somajului_feminin.rename(columns={' Valoare':'UNEMPLOYMENT_RATE_FEMALE'}, inplace=True)\n",
    "df_unitati_invatamant.rename(columns={' Valoare':'EDUCATIONAL_UNITS'}, inplace=True)\n",
    "df_personal_didactic.rename(columns={' Valoare':'TEACHING_STAFF'}, inplace=True)\n",
    "df_conflicte_interese.rename(columns={' Valoare':'CONFLICTS_OF_INTEREST'}, inplace=True)\n",
    "df_spitale.rename(columns={' Valoare':'HOSPITALS'}, inplace=True)"
   ]
  },
  {
   "cell_type": "markdown",
   "id": "383ca655-0cce-48d7-a0cb-db4ded8eb493",
   "metadata": {},
   "source": [
    "### Perform aggregations"
   ]
  },
  {
   "cell_type": "code",
   "execution_count": 4,
   "id": "01c157d5-3ee4-4339-8aae-106e81796513",
   "metadata": {},
   "outputs": [],
   "source": [
    "df_merged = df_emigranti_definitivi_sexe_judete_ani.merge(df_nascuti_vii_urban, on=[' Ani', ' Macroregiuni  regiuni de dezvoltare si judete'], how='left')\n",
    "\n",
    "# Fill NaN's with 0 because Municipiul Bucuresti is a city\n",
    "df_merged = df_merged.merge(df_nascuti_vii_rural, on=[' Ani', ' Macroregiuni  regiuni de dezvoltare si judete'], how='left').fillna(0)\n",
    "\n",
    "# Fill NaN's with 0 because we had 0 deaths where we've encountered missing values\n",
    "df_merged = df_merged.merge(df_nascuti_morti_urban, on=[' Ani', ' Macroregiuni  regiuni de dezvoltare si judete'], how='left').fillna(0)\n",
    "df_merged = df_merged.merge(df_nascuti_morti_rural, on=[' Ani', ' Macroregiuni  regiuni de dezvoltare si judete'], how='left').fillna(0)\n",
    "\n",
    "# Fill NaN's with 0 because we had 0 divorces where we've encountered missing values\n",
    "df_merged = df_merged.merge(df_divorturi_urban, on=[' Ani', ' Macroregiuni  regiuni de dezvoltare si judete'], how='left').fillna(0)\n",
    "df_merged = df_merged.merge(df_divorturi_rural, on=[' Ani', ' Macroregiuni  regiuni de dezvoltare si judete'], how='left').fillna(0)\n",
    "\n",
    "df_merged = df_merged.merge(df_rata_somajului_masculin, on=[' Ani', ' Macroregiuni  regiuni de dezvoltare si judete'], how='right').fillna(0)\n",
    "df_merged = df_merged.merge(df_rata_somajului_feminin, on=[' Ani', ' Macroregiuni  regiuni de dezvoltare si judete'], how='right').fillna(0)\n",
    "\n",
    "df_merged = df_merged.merge(df_unitati_invatamant, on=[' Ani', ' Macroregiuni  regiuni de dezvoltare si judete'], how='right').fillna(0)\n",
    "\n",
    "df_merged = df_merged.merge(df_personal_didactic, on=[' Ani', ' Macroregiuni  regiuni de dezvoltare si judete'], how='left').fillna(0)\n",
    "\n",
    "df_merged = df_merged.merge(df_conflicte_interese, on=[' Ani', ' Macroregiuni  regiuni de dezvoltare si judete'], how='left').fillna(0)\n",
    "\n",
    "df_merged = df_merged.merge(df_spitale, on=[' Ani', ' Macroregiuni  regiuni de dezvoltare si judete'], how='left').fillna(0)\n",
    "\n",
    "df_merged.rename(columns={' Ani':'YEARS', ' Macroregiuni  regiuni de dezvoltare si judete':'COUNTIES'}, inplace=True)"
   ]
  },
  {
   "cell_type": "markdown",
   "id": "1eefea57-c2e2-4ddf-b226-6f255ac4b733",
   "metadata": {},
   "source": [
    "##### Make sure we don't have any NaN value"
   ]
  },
  {
   "cell_type": "code",
   "execution_count": 5,
   "id": "23302b27-98cf-4fa4-bcbd-36fad7a7dc56",
   "metadata": {},
   "outputs": [
    {
     "data": {
      "text/plain": [
       "YEARS                       0\n",
       "COUNTIES                    0\n",
       "EMIGRANTS                   0\n",
       "BORN_URBAN                  0\n",
       "BORN_RURAL                  0\n",
       "DEAD_URBAN                  0\n",
       "DEAD_RURAL                  0\n",
       "DIVORCES_URBAN              0\n",
       "DIVORCES_RURAL              0\n",
       "UNEMPLOYMENT_RATE_MALE      0\n",
       "UNEMPLOYMENT_RATE_FEMALE    0\n",
       "EDUCATIONAL_UNITS           0\n",
       "TEACHING_STAFF              0\n",
       "CONFLICTS_OF_INTEREST       0\n",
       "HOSPITALS                   0\n",
       "dtype: int64"
      ]
     },
     "execution_count": 5,
     "metadata": {},
     "output_type": "execute_result"
    }
   ],
   "source": [
    "df_merged.isnull().sum()"
   ]
  },
  {
   "cell_type": "markdown",
   "id": "2f6d0947-9fec-40f8-9a00-8a02657ffec9",
   "metadata": {},
   "source": [
    "### Export dataset"
   ]
  },
  {
   "cell_type": "code",
   "execution_count": 6,
   "id": "d70e3a91-b3f9-4642-8013-7fb1d3e76fe0",
   "metadata": {},
   "outputs": [],
   "source": [
    "df_merged.to_csv('data/df_emigrant_population.csv', index=False)"
   ]
  },
  {
   "cell_type": "code",
   "execution_count": null,
   "id": "99dc7cdf-e5f9-4af5-8b38-c2215eb96fbb",
   "metadata": {},
   "outputs": [],
   "source": []
  }
 ],
 "metadata": {
  "kernelspec": {
   "display_name": "Python 3 (ipykernel)",
   "language": "python",
   "name": "python3"
  },
  "language_info": {
   "codemirror_mode": {
    "name": "ipython",
    "version": 3
   },
   "file_extension": ".py",
   "mimetype": "text/x-python",
   "name": "python",
   "nbconvert_exporter": "python",
   "pygments_lexer": "ipython3",
   "version": "3.10.8"
  }
 },
 "nbformat": 4,
 "nbformat_minor": 5
}
